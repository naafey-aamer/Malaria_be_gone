{
  "nbformat": 4,
  "nbformat_minor": 0,
  "metadata": {
    "colab": {
      "provenance": [],
      "authorship_tag": "ABX9TyPMjoLyTubPAcgxalXnmajH",
      "include_colab_link": true
    },
    "kernelspec": {
      "name": "python3",
      "display_name": "Python 3"
    },
    "language_info": {
      "name": "python"
    }
  },
  "cells": [
    {
      "cell_type": "markdown",
      "metadata": {
        "id": "view-in-github",
        "colab_type": "text"
      },
      "source": [
        "<a href=\"https://colab.research.google.com/github/naafey-aamer/Malaria_be_gone/blob/main/CNN.ipynb\" target=\"_parent\"><img src=\"https://colab.research.google.com/assets/colab-badge.svg\" alt=\"Open In Colab\"/></a>"
      ]
    },
    {
      "cell_type": "code",
      "execution_count": 112,
      "metadata": {
        "id": "6LPbLCDQ2siF"
      },
      "outputs": [],
      "source": [
        "import tensorflow_datasets as tfds\n",
        "import tensorflow as tf"
      ]
    },
    {
      "cell_type": "code",
      "source": [
        "#from tensorflow.org\n",
        "(raw_train, raw_validation, raw_test), metadata = tfds.load(\n",
        "    'malaria',\n",
        "    split=['train[:80%]', 'train[80%:90%]', 'train[90%:]'],\n",
        "    with_info=True,\n",
        "    as_supervised=True,)"
      ],
      "metadata": {
        "id": "bJqFXdjs7UJO"
      },
      "execution_count": 113,
      "outputs": []
    },
    {
      "cell_type": "code",
      "source": [
        "IMG_SIZE = 65\n",
        "\n",
        "#from tensorflow.org\n",
        "def format_example(image, label):\n",
        "  image = tf.cast(image, tf.float32)\n",
        "  image = tf.image.random_flip_left_right(image)  # Model overfits after 3-4 EPOCHS so Randomized Data augmentation applied\n",
        "  image = image / 255\n",
        "  image = tf.image.resize(image, (IMG_SIZE, IMG_SIZE))\n",
        "  return image, label\n",
        "\n",
        "\n",
        "train = raw_train.map(format_example)\n",
        "validation = raw_validation.map(format_example)\n",
        "test = raw_test.map(format_example)\n"
      ],
      "metadata": {
        "id": "xFRATah57Voo"
      },
      "execution_count": 114,
      "outputs": []
    },
    {
      "cell_type": "code",
      "source": [
        "print(len(train))\n",
        "print(len(validation))\n",
        "print(len(test))"
      ],
      "metadata": {
        "colab": {
          "base_uri": "https://localhost:8080/"
        },
        "id": "XuW0_MQAKlMA",
        "outputId": "ac6b1e9e-a403-40c2-b9f7-5f03be888d9f"
      },
      "execution_count": 115,
      "outputs": [
        {
          "output_type": "stream",
          "name": "stdout",
          "text": [
            "22046\n",
            "2756\n",
            "2756\n"
          ]
        }
      ]
    },
    {
      "cell_type": "code",
      "source": [
        "BATCH_SIZE = 128 #Lower sized batches are overfitting\n",
        "SHUFFLE_SIZE = 1000\n",
        "train_ds = train.shuffle(SHUFFLE_SIZE).batch(BATCH_SIZE)\n",
        "validation_ds = validation.batch(BATCH_SIZE)\n",
        "test_ds = test.batch(BATCH_SIZE)"
      ],
      "metadata": {
        "id": "yBSpKrHe9Qlf"
      },
      "execution_count": 116,
      "outputs": []
    },
    {
      "cell_type": "code",
      "source": [
        "#settled on this shape keeping computational costs in mind and preventing overfitting\n",
        "#average pooling not working well\n",
        "model = tf.keras.models.Sequential([\n",
        "  tf.keras.layers.Conv2D(32, (3,3), activation='relu', input_shape=(IMG_SIZE, IMG_SIZE, 3)),\n",
        "  tf.keras.layers.MaxPooling2D(2, 2),\n",
        "\n",
        "  tf.keras.layers.Conv2D(64, (3,3), activation='relu'),\n",
        "  tf.keras.layers.MaxPooling2D(2,2),\n",
        "\n",
        "  tf.keras.layers.Conv2D(128, (3,3), activation='relu'),\n",
        "  tf.keras.layers.MaxPooling2D(2,2),\n",
        "\n",
        "  tf.keras.layers.Conv2D(128, (3,3), activation='relu'),\n",
        "  tf.keras.layers.MaxPooling2D(2,2),\n",
        "\n",
        "  tf.keras.layers.Flatten(),\n",
        "  tf.keras.layers.Dense(512, activation='relu'),\n",
        "  tf.keras.layers.Dropout(0.5), #Dropout significantly preventing overfitting\n",
        "  tf.keras.layers.Dense(2, activation='sigmoid')\n",
        "])"
      ],
      "metadata": {
        "id": "MJAbAu1F7r_h"
      },
      "execution_count": 117,
      "outputs": []
    },
    {
      "cell_type": "code",
      "source": [
        "model.compile(optimizer='adam',\n",
        "              loss=tf.keras.losses.SparseCategoricalCrossentropy(from_logits=True),\n",
        "              metrics=['accuracy'])\n",
        "model.summary()"
      ],
      "metadata": {
        "colab": {
          "base_uri": "https://localhost:8080/"
        },
        "id": "OHgcjCfv8J_r",
        "outputId": "4734e086-7694-4187-df73-b77f197b2ef9"
      },
      "execution_count": 118,
      "outputs": [
        {
          "output_type": "stream",
          "name": "stdout",
          "text": [
            "Model: \"sequential_14\"\n",
            "_________________________________________________________________\n",
            " Layer (type)                Output Shape              Param #   \n",
            "=================================================================\n",
            " conv2d_56 (Conv2D)          (None, 63, 63, 32)        896       \n",
            "                                                                 \n",
            " max_pooling2d_55 (MaxPoolin  (None, 31, 31, 32)       0         \n",
            " g2D)                                                            \n",
            "                                                                 \n",
            " conv2d_57 (Conv2D)          (None, 29, 29, 64)        18496     \n",
            "                                                                 \n",
            " max_pooling2d_56 (MaxPoolin  (None, 14, 14, 64)       0         \n",
            " g2D)                                                            \n",
            "                                                                 \n",
            " conv2d_58 (Conv2D)          (None, 12, 12, 128)       73856     \n",
            "                                                                 \n",
            " max_pooling2d_57 (MaxPoolin  (None, 6, 6, 128)        0         \n",
            " g2D)                                                            \n",
            "                                                                 \n",
            " conv2d_59 (Conv2D)          (None, 4, 4, 128)         147584    \n",
            "                                                                 \n",
            " max_pooling2d_58 (MaxPoolin  (None, 2, 2, 128)        0         \n",
            " g2D)                                                            \n",
            "                                                                 \n",
            " flatten_14 (Flatten)        (None, 512)               0         \n",
            "                                                                 \n",
            " dense_28 (Dense)            (None, 512)               262656    \n",
            "                                                                 \n",
            " dropout_8 (Dropout)         (None, 512)               0         \n",
            "                                                                 \n",
            " dense_29 (Dense)            (None, 2)                 1026      \n",
            "                                                                 \n",
            "=================================================================\n",
            "Total params: 504,514\n",
            "Trainable params: 504,514\n",
            "Non-trainable params: 0\n",
            "_________________________________________________________________\n"
          ]
        }
      ]
    },
    {
      "cell_type": "code",
      "source": [
        "from tensorflow.keras.callbacks import EarlyStopping #early stopping to prevent overfitting\n",
        "\n",
        "EPOCHS = 9\n",
        "early_stop = EarlyStopping(monitor='val_loss', patience=2)\n",
        "\n",
        "model.fit(train_ds,\n",
        "          validation_data=validation_ds,\n",
        "          epochs=EPOCHS,\n",
        "          callbacks=[early_stop])\n"
      ],
      "metadata": {
        "colab": {
          "base_uri": "https://localhost:8080/"
        },
        "id": "nrc8ORfa9py4",
        "outputId": "75cc062c-07e2-4f31-9def-961cb76060ca"
      },
      "execution_count": 119,
      "outputs": [
        {
          "output_type": "stream",
          "name": "stdout",
          "text": [
            "Epoch 1/9\n",
            "173/173 [==============================] - 234s 1s/step - loss: 0.4045 - accuracy: 0.7976 - val_loss: 0.1800 - val_accuracy: 0.9372\n",
            "Epoch 2/9\n",
            "173/173 [==============================] - 231s 1s/step - loss: 0.1532 - accuracy: 0.9522 - val_loss: 0.1431 - val_accuracy: 0.9528\n",
            "Epoch 3/9\n",
            "173/173 [==============================] - 229s 1s/step - loss: 0.1384 - accuracy: 0.9562 - val_loss: 0.1343 - val_accuracy: 0.9550\n",
            "Epoch 4/9\n",
            "173/173 [==============================] - 221s 1s/step - loss: 0.1333 - accuracy: 0.9572 - val_loss: 0.1332 - val_accuracy: 0.9579\n",
            "Epoch 5/9\n",
            "173/173 [==============================] - 221s 1s/step - loss: 0.1238 - accuracy: 0.9596 - val_loss: 0.1281 - val_accuracy: 0.9557\n",
            "Epoch 6/9\n",
            "173/173 [==============================] - 255s 1s/step - loss: 0.1199 - accuracy: 0.9603 - val_loss: 0.1328 - val_accuracy: 0.9565\n",
            "Epoch 7/9\n",
            "173/173 [==============================] - 232s 1s/step - loss: 0.1134 - accuracy: 0.9609 - val_loss: 0.1194 - val_accuracy: 0.9601\n",
            "Epoch 8/9\n",
            "173/173 [==============================] - 218s 1s/step - loss: 0.1128 - accuracy: 0.9628 - val_loss: 0.1246 - val_accuracy: 0.9586\n",
            "Epoch 9/9\n",
            "173/173 [==============================] - 220s 1s/step - loss: 0.1060 - accuracy: 0.9632 - val_loss: 0.1296 - val_accuracy: 0.9572\n"
          ]
        },
        {
          "output_type": "execute_result",
          "data": {
            "text/plain": [
              "<keras.callbacks.History at 0x7997c47d7010>"
            ]
          },
          "metadata": {},
          "execution_count": 119
        }
      ]
    },
    {
      "cell_type": "code",
      "source": [
        "loss, accuracy = model.evaluate(test_ds)\n",
        "print(f\"Loss: {loss}\")\n",
        "print(f\"Accuracy: {accuracy}\")"
      ],
      "metadata": {
        "colab": {
          "base_uri": "https://localhost:8080/"
        },
        "id": "Rw7mzCa39y5p",
        "outputId": "05761465-de7f-4869-c15e-1b4d95ce0699"
      },
      "execution_count": 120,
      "outputs": [
        {
          "output_type": "stream",
          "name": "stdout",
          "text": [
            "22/22 [==============================] - 8s 351ms/step - loss: 0.1466 - accuracy: 0.9536\n",
            "Loss: 0.14663340151309967\n",
            "Accuracy: 0.9535558819770813\n"
          ]
        }
      ]
    }
  ]
}