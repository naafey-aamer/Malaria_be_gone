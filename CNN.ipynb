{
  "nbformat": 4,
  "nbformat_minor": 0,
  "metadata": {
    "colab": {
      "provenance": [],
      "authorship_tag": "ABX9TyMx62pi/FjqoDNgu5I99wzZ",
      "include_colab_link": true
    },
    "kernelspec": {
      "name": "python3",
      "display_name": "Python 3"
    },
    "language_info": {
      "name": "python"
    }
  },
  "cells": [
    {
      "cell_type": "markdown",
      "metadata": {
        "id": "view-in-github",
        "colab_type": "text"
      },
      "source": [
        "<a href=\"https://colab.research.google.com/github/naafey-aamer/Malaria_be_gone/blob/main/CNN.ipynb\" target=\"_parent\"><img src=\"https://colab.research.google.com/assets/colab-badge.svg\" alt=\"Open In Colab\"/></a>"
      ]
    },
    {
      "cell_type": "code",
      "execution_count": null,
      "metadata": {
        "id": "6LPbLCDQ2siF"
      },
      "outputs": [],
      "source": [
        "import tensorflow_datasets as tfds\n",
        "import tensorflow as tf"
      ]
    },
    {
      "cell_type": "code",
      "source": [
        "#from tensorflow.org\n",
        "(raw_train, raw_validation, raw_test), metadata = tfds.load(\n",
        "    'malaria',\n",
        "    split=['train[:80%]', 'train[80%:90%]', 'train[90%:]'],\n",
        "    with_info=True,\n",
        "    as_supervised=True,)"
      ],
      "metadata": {
        "id": "bJqFXdjs7UJO"
      },
      "execution_count": null,
      "outputs": []
    },
    {
      "cell_type": "code",
      "source": [
        "IMG_SIZE = 120\n",
        "\n",
        "#from tensorflow.org\n",
        "def format_example(image, label):\n",
        "  image = tf.cast(image, tf.float32)\n",
        "  image = tf.image.random_flip_left_right(image)  # Model overfits after 3-4 EPOCHS so Randomized Data augmentation applied\n",
        "  image = image / 255\n",
        "  image = tf.image.resize(image, (IMG_SIZE, IMG_SIZE))\n",
        "  return image, label\n",
        "\n",
        "\n",
        "train = raw_train.map(format_example)\n",
        "validation = raw_validation.map(format_example)\n",
        "test = raw_test.map(format_example)\n"
      ],
      "metadata": {
        "id": "xFRATah57Voo"
      },
      "execution_count": null,
      "outputs": []
    },
    {
      "cell_type": "code",
      "source": [
        "print(len(train))\n",
        "print(len(validation))\n",
        "print(len(test))"
      ],
      "metadata": {
        "colab": {
          "base_uri": "https://localhost:8080/"
        },
        "id": "XuW0_MQAKlMA",
        "outputId": "0b14115f-b41d-4bde-b86a-9ecba710a3d4"
      },
      "execution_count": null,
      "outputs": [
        {
          "output_type": "stream",
          "name": "stdout",
          "text": [
            "22046\n",
            "2756\n",
            "2756\n"
          ]
        }
      ]
    },
    {
      "cell_type": "code",
      "source": [
        "BATCH_SIZE = 256 #Lower sized batches are overfitting\n",
        "SHUFFLE_SIZE = 1000\n",
        "train_ds = train.shuffle(SHUFFLE_SIZE).batch(BATCH_SIZE)\n",
        "validation_ds = validation.batch(BATCH_SIZE)\n",
        "test_ds = test.batch(BATCH_SIZE)"
      ],
      "metadata": {
        "id": "yBSpKrHe9Qlf"
      },
      "execution_count": null,
      "outputs": []
    },
    {
      "cell_type": "code",
      "source": [
        "#settled on this shape keeping computational costs in mind and preventing overfitting\n",
        "#average pooling not working well\n",
        "model = tf.keras.models.Sequential([\n",
        "  tf.keras.layers.Conv2D(32, (3,3), activation='relu', input_shape=(IMG_SIZE, IMG_SIZE, 3)),\n",
        "  tf.keras.layers.MaxPooling2D(2, 2),\n",
        "\n",
        "  tf.keras.layers.Conv2D(64, (3,3), activation='relu'),\n",
        "  tf.keras.layers.MaxPooling2D(2,2),\n",
        "\n",
        "  tf.keras.layers.Conv2D(128, (3,3), activation='relu'),\n",
        "  tf.keras.layers.MaxPooling2D(2,2),\n",
        "\n",
        "  tf.keras.layers.Conv2D(128, (3,3), activation='relu'),\n",
        "  tf.keras.layers.MaxPooling2D(2,2),\n",
        "\n",
        "  tf.keras.layers.Flatten(),\n",
        "  tf.keras.layers.Dense(512, activation='relu'),\n",
        "  tf.keras.layers.Dropout(0.5), #Dropout significantly preventing overfitting\n",
        "  tf.keras.layers.Dense(2, activation='sigmoid')\n",
        "])"
      ],
      "metadata": {
        "id": "MJAbAu1F7r_h"
      },
      "execution_count": null,
      "outputs": []
    },
    {
      "cell_type": "code",
      "source": [
        "model.compile(optimizer='adam',\n",
        "              loss=tf.keras.losses.SparseCategoricalCrossentropy(from_logits=False),\n",
        "              metrics=['accuracy'])\n",
        "model.summary()"
      ],
      "metadata": {
        "colab": {
          "base_uri": "https://localhost:8080/"
        },
        "id": "OHgcjCfv8J_r",
        "outputId": "6a23f790-af86-4db0-ca1d-19f22c8bd27c"
      },
      "execution_count": null,
      "outputs": [
        {
          "output_type": "stream",
          "name": "stdout",
          "text": [
            "Model: \"sequential\"\n",
            "_________________________________________________________________\n",
            " Layer (type)                Output Shape              Param #   \n",
            "=================================================================\n",
            " conv2d (Conv2D)             (None, 118, 118, 32)      896       \n",
            "                                                                 \n",
            " max_pooling2d (MaxPooling2D  (None, 59, 59, 32)       0         \n",
            " )                                                               \n",
            "                                                                 \n",
            " conv2d_1 (Conv2D)           (None, 57, 57, 64)        18496     \n",
            "                                                                 \n",
            " max_pooling2d_1 (MaxPooling  (None, 28, 28, 64)       0         \n",
            " 2D)                                                             \n",
            "                                                                 \n",
            " conv2d_2 (Conv2D)           (None, 26, 26, 128)       73856     \n",
            "                                                                 \n",
            " max_pooling2d_2 (MaxPooling  (None, 13, 13, 128)      0         \n",
            " 2D)                                                             \n",
            "                                                                 \n",
            " conv2d_3 (Conv2D)           (None, 11, 11, 128)       147584    \n",
            "                                                                 \n",
            " max_pooling2d_3 (MaxPooling  (None, 5, 5, 128)        0         \n",
            " 2D)                                                             \n",
            "                                                                 \n",
            " flatten (Flatten)           (None, 3200)              0         \n",
            "                                                                 \n",
            " dense (Dense)               (None, 512)               1638912   \n",
            "                                                                 \n",
            " dropout (Dropout)           (None, 512)               0         \n",
            "                                                                 \n",
            " dense_1 (Dense)             (None, 2)                 1026      \n",
            "                                                                 \n",
            "=================================================================\n",
            "Total params: 1,880,770\n",
            "Trainable params: 1,880,770\n",
            "Non-trainable params: 0\n",
            "_________________________________________________________________\n"
          ]
        }
      ]
    },
    {
      "cell_type": "code",
      "source": [
        "from tensorflow.keras.callbacks import EarlyStopping #early stopping to prevent overfitting\n",
        "\n",
        "def lr_schedule(epoch, lr):\n",
        "    # Reduce learning rate by 20% every 2 epochs\n",
        "    if (epoch+1) % 2 == 0:\n",
        "        lr *= 0.8\n",
        "    return max(lr, 3e-4)\n",
        "\n",
        "EPOCHS = 12\n",
        "\n",
        "lr_callback = tf.keras.callbacks.LearningRateScheduler(lr_schedule, verbose=1)\n",
        "early_stop = EarlyStopping(monitor='val_loss', patience=2)\n",
        "\n",
        "model.fit(train_ds,\n",
        "          validation_data=validation_ds,\n",
        "          epochs=EPOCHS,\n",
        "          callbacks=[early_stop, lr_callback])\n"
      ],
      "metadata": {
        "colab": {
          "base_uri": "https://localhost:8080/"
        },
        "id": "nrc8ORfa9py4",
        "outputId": "dd3c5e01-1524-4906-b81e-f3115cdad27a"
      },
      "execution_count": null,
      "outputs": [
        {
          "output_type": "stream",
          "name": "stdout",
          "text": [
            "\n",
            "Epoch 1: LearningRateScheduler setting learning rate to 0.0010000000474974513.\n",
            "Epoch 1/12\n",
            "87/87 [==============================] - 865s 10s/step - loss: 0.4828 - accuracy: 0.7446 - val_loss: 0.1956 - val_accuracy: 0.9332 - lr: 0.0010\n",
            "\n",
            "Epoch 2: LearningRateScheduler setting learning rate to 0.000800000037997961.\n",
            "Epoch 2/12\n",
            "87/87 [==============================] - 847s 10s/step - loss: 0.1682 - accuracy: 0.9469 - val_loss: 0.1587 - val_accuracy: 0.9478 - lr: 8.0000e-04\n",
            "\n",
            "Epoch 3: LearningRateScheduler setting learning rate to 0.000800000037997961.\n",
            "Epoch 3/12\n",
            "87/87 [==============================] - 850s 10s/step - loss: 0.1456 - accuracy: 0.9536 - val_loss: 0.1471 - val_accuracy: 0.9496 - lr: 8.0000e-04\n",
            "\n",
            "Epoch 4: LearningRateScheduler setting learning rate to 0.0006400000303983689.\n",
            "Epoch 4/12\n",
            "87/87 [==============================] - 843s 10s/step - loss: 0.1382 - accuracy: 0.9550 - val_loss: 0.1401 - val_accuracy: 0.9517 - lr: 6.4000e-04\n",
            "\n",
            "Epoch 5: LearningRateScheduler setting learning rate to 0.000640000042039901.\n",
            "Epoch 5/12\n",
            "87/87 [==============================] - 842s 10s/step - loss: 0.1273 - accuracy: 0.9582 - val_loss: 0.1392 - val_accuracy: 0.9536 - lr: 6.4000e-04\n",
            "\n",
            "Epoch 6: LearningRateScheduler setting learning rate to 0.0005120000336319208.\n",
            "Epoch 6/12\n",
            "87/87 [==============================] - 842s 10s/step - loss: 0.1248 - accuracy: 0.9585 - val_loss: 0.1403 - val_accuracy: 0.9525 - lr: 5.1200e-04\n",
            "\n",
            "Epoch 7: LearningRateScheduler setting learning rate to 0.0005120000569149852.\n",
            "Epoch 7/12\n",
            "87/87 [==============================] - 843s 10s/step - loss: 0.1187 - accuracy: 0.9600 - val_loss: 0.1364 - val_accuracy: 0.9554 - lr: 5.1200e-04\n",
            "\n",
            "Epoch 8: LearningRateScheduler setting learning rate to 0.00040960004553198815.\n",
            "Epoch 8/12\n",
            "87/87 [==============================] - 842s 10s/step - loss: 0.1165 - accuracy: 0.9600 - val_loss: 0.1289 - val_accuracy: 0.9543 - lr: 4.0960e-04\n",
            "\n",
            "Epoch 9: LearningRateScheduler setting learning rate to 0.00040960003389045596.\n",
            "Epoch 9/12\n",
            "87/87 [==============================] - 829s 10s/step - loss: 0.1107 - accuracy: 0.9621 - val_loss: 0.1408 - val_accuracy: 0.9525 - lr: 4.0960e-04\n",
            "\n",
            "Epoch 10: LearningRateScheduler setting learning rate to 0.00032768002711236477.\n",
            "Epoch 10/12\n",
            "87/87 [==============================] - 843s 10s/step - loss: 0.1082 - accuracy: 0.9633 - val_loss: 0.1277 - val_accuracy: 0.9546 - lr: 3.2768e-04\n",
            "\n",
            "Epoch 11: LearningRateScheduler setting learning rate to 0.00032768002711236477.\n",
            "Epoch 11/12\n",
            "87/87 [==============================] - 851s 10s/step - loss: 0.1066 - accuracy: 0.9638 - val_loss: 0.1199 - val_accuracy: 0.9572 - lr: 3.2768e-04\n",
            "\n",
            "Epoch 12: LearningRateScheduler setting learning rate to 0.0003.\n",
            "Epoch 12/12\n",
            "87/87 [==============================] - 854s 10s/step - loss: 0.1022 - accuracy: 0.9644 - val_loss: 0.1244 - val_accuracy: 0.9554 - lr: 3.0000e-04\n"
          ]
        },
        {
          "output_type": "execute_result",
          "data": {
            "text/plain": [
              "<keras.callbacks.History at 0x78cbc6611de0>"
            ]
          },
          "metadata": {},
          "execution_count": 8
        }
      ]
    },
    {
      "cell_type": "code",
      "source": [
        "loss, accuracy = model.evaluate(test_ds)\n",
        "print(f\"Loss: {loss}\")\n",
        "print(f\"Accuracy: {accuracy}\")"
      ],
      "metadata": {
        "colab": {
          "base_uri": "https://localhost:8080/"
        },
        "id": "Rw7mzCa39y5p",
        "outputId": "6bf90e30-59bf-4158-e3fe-cab713344835"
      },
      "execution_count": null,
      "outputs": [
        {
          "output_type": "stream",
          "name": "stdout",
          "text": [
            "11/11 [==============================] - 30s 3s/step - loss: 0.1406 - accuracy: 0.9583\n",
            "Loss: 0.14063197374343872\n",
            "Accuracy: 0.9582728743553162\n"
          ]
        }
      ]
    }
  ]
}